{
  "nbformat": 4,
  "nbformat_minor": 0,
  "metadata": {
    "colab": {
      "provenance": [],
      "toc_visible": true
    },
    "kernelspec": {
      "name": "python3",
      "display_name": "Python 3"
    },
    "language_info": {
      "name": "python"
    },
    "gpuClass": "standard",
    "accelerator": "GPU"
  },
  "cells": [
    {
      "cell_type": "markdown",
      "source": [
        "# Imports"
      ],
      "metadata": {
        "id": "lUFQZP4HWTfB"
      }
    },
    {
      "cell_type": "code",
      "execution_count": null,
      "metadata": {
        "id": "rlyKmkBO0PQ3",
        "colab": {
          "base_uri": "https://localhost:8080/"
        },
        "outputId": "0cbfb85f-71c9-473b-f139-39f61d6baae4"
      },
      "outputs": [
        {
          "output_type": "stream",
          "name": "stdout",
          "text": [
            "Mounted at /content/drive/\n"
          ]
        }
      ],
      "source": [
        "from google.colab import drive\n",
        "drive.mount('/content/drive/')"
      ]
    },
    {
      "cell_type": "code",
      "source": [
        "import os\n",
        "os.chdir(\"/content/drive/MyDrive/mlproject\")"
      ],
      "metadata": {
        "id": "fLfHKRUM0nmV"
      },
      "execution_count": null,
      "outputs": []
    },
    {
      "cell_type": "code",
      "source": [
        "!pip install sentence_transformers"
      ],
      "metadata": {
        "id": "JDr0o0Q51iTY",
        "colab": {
          "base_uri": "https://localhost:8080/"
        },
        "outputId": "b99cf865-482f-49bf-fdc5-1ea90f1aa841"
      },
      "execution_count": null,
      "outputs": [
        {
          "output_type": "stream",
          "name": "stdout",
          "text": [
            "Looking in indexes: https://pypi.org/simple, https://us-python.pkg.dev/colab-wheels/public/simple/\n",
            "Collecting sentence_transformers\n",
            "  Downloading sentence-transformers-2.2.2.tar.gz (85 kB)\n",
            "\u001b[K     |████████████████████████████████| 85 kB 4.8 MB/s \n",
            "\u001b[?25hCollecting transformers<5.0.0,>=4.6.0\n",
            "  Downloading transformers-4.25.1-py3-none-any.whl (5.8 MB)\n",
            "\u001b[K     |████████████████████████████████| 5.8 MB 33.4 MB/s \n",
            "\u001b[?25hRequirement already satisfied: tqdm in /usr/local/lib/python3.8/dist-packages (from sentence_transformers) (4.64.1)\n",
            "Requirement already satisfied: torch>=1.6.0 in /usr/local/lib/python3.8/dist-packages (from sentence_transformers) (1.13.0+cu116)\n",
            "Requirement already satisfied: torchvision in /usr/local/lib/python3.8/dist-packages (from sentence_transformers) (0.14.0+cu116)\n",
            "Requirement already satisfied: numpy in /usr/local/lib/python3.8/dist-packages (from sentence_transformers) (1.21.6)\n",
            "Requirement already satisfied: scikit-learn in /usr/local/lib/python3.8/dist-packages (from sentence_transformers) (1.0.2)\n",
            "Requirement already satisfied: scipy in /usr/local/lib/python3.8/dist-packages (from sentence_transformers) (1.7.3)\n",
            "Requirement already satisfied: nltk in /usr/local/lib/python3.8/dist-packages (from sentence_transformers) (3.7)\n",
            "Collecting sentencepiece\n",
            "  Downloading sentencepiece-0.1.97-cp38-cp38-manylinux_2_17_x86_64.manylinux2014_x86_64.whl (1.3 MB)\n",
            "\u001b[K     |████████████████████████████████| 1.3 MB 56.9 MB/s \n",
            "\u001b[?25hCollecting huggingface-hub>=0.4.0\n",
            "  Downloading huggingface_hub-0.11.1-py3-none-any.whl (182 kB)\n",
            "\u001b[K     |████████████████████████████████| 182 kB 73.6 MB/s \n",
            "\u001b[?25hRequirement already satisfied: packaging>=20.9 in /usr/local/lib/python3.8/dist-packages (from huggingface-hub>=0.4.0->sentence_transformers) (21.3)\n",
            "Requirement already satisfied: requests in /usr/local/lib/python3.8/dist-packages (from huggingface-hub>=0.4.0->sentence_transformers) (2.23.0)\n",
            "Requirement already satisfied: filelock in /usr/local/lib/python3.8/dist-packages (from huggingface-hub>=0.4.0->sentence_transformers) (3.8.2)\n",
            "Requirement already satisfied: pyyaml>=5.1 in /usr/local/lib/python3.8/dist-packages (from huggingface-hub>=0.4.0->sentence_transformers) (6.0)\n",
            "Requirement already satisfied: typing-extensions>=3.7.4.3 in /usr/local/lib/python3.8/dist-packages (from huggingface-hub>=0.4.0->sentence_transformers) (4.4.0)\n",
            "Requirement already satisfied: pyparsing!=3.0.5,>=2.0.2 in /usr/local/lib/python3.8/dist-packages (from packaging>=20.9->huggingface-hub>=0.4.0->sentence_transformers) (3.0.9)\n",
            "Requirement already satisfied: regex!=2019.12.17 in /usr/local/lib/python3.8/dist-packages (from transformers<5.0.0,>=4.6.0->sentence_transformers) (2022.6.2)\n",
            "Collecting tokenizers!=0.11.3,<0.14,>=0.11.1\n",
            "  Downloading tokenizers-0.13.2-cp38-cp38-manylinux_2_17_x86_64.manylinux2014_x86_64.whl (7.6 MB)\n",
            "\u001b[K     |████████████████████████████████| 7.6 MB 59.2 MB/s \n",
            "\u001b[?25hRequirement already satisfied: joblib in /usr/local/lib/python3.8/dist-packages (from nltk->sentence_transformers) (1.2.0)\n",
            "Requirement already satisfied: click in /usr/local/lib/python3.8/dist-packages (from nltk->sentence_transformers) (7.1.2)\n",
            "Requirement already satisfied: certifi>=2017.4.17 in /usr/local/lib/python3.8/dist-packages (from requests->huggingface-hub>=0.4.0->sentence_transformers) (2022.12.7)\n",
            "Requirement already satisfied: chardet<4,>=3.0.2 in /usr/local/lib/python3.8/dist-packages (from requests->huggingface-hub>=0.4.0->sentence_transformers) (3.0.4)\n",
            "Requirement already satisfied: urllib3!=1.25.0,!=1.25.1,<1.26,>=1.21.1 in /usr/local/lib/python3.8/dist-packages (from requests->huggingface-hub>=0.4.0->sentence_transformers) (1.24.3)\n",
            "Requirement already satisfied: idna<3,>=2.5 in /usr/local/lib/python3.8/dist-packages (from requests->huggingface-hub>=0.4.0->sentence_transformers) (2.10)\n",
            "Requirement already satisfied: threadpoolctl>=2.0.0 in /usr/local/lib/python3.8/dist-packages (from scikit-learn->sentence_transformers) (3.1.0)\n",
            "Requirement already satisfied: pillow!=8.3.*,>=5.3.0 in /usr/local/lib/python3.8/dist-packages (from torchvision->sentence_transformers) (7.1.2)\n",
            "Building wheels for collected packages: sentence-transformers\n",
            "  Building wheel for sentence-transformers (setup.py) ... \u001b[?25l\u001b[?25hdone\n",
            "  Created wheel for sentence-transformers: filename=sentence_transformers-2.2.2-py3-none-any.whl size=125938 sha256=c6cb87bc0b25f85f99f370310822bdb243cb71ec30b4443e4ef71051288486ab\n",
            "  Stored in directory: /root/.cache/pip/wheels/5e/6f/8c/d88aec621f3f542d26fac0342bef5e693335d125f4e54aeffe\n",
            "Successfully built sentence-transformers\n",
            "Installing collected packages: tokenizers, huggingface-hub, transformers, sentencepiece, sentence-transformers\n",
            "Successfully installed huggingface-hub-0.11.1 sentence-transformers-2.2.2 sentencepiece-0.1.97 tokenizers-0.13.2 transformers-4.25.1\n"
          ]
        }
      ]
    },
    {
      "cell_type": "code",
      "source": [
        "#NLP \n",
        "import spacy\n",
        "from spacy.lang.en.stop_words import STOP_WORDS\n",
        "from spacy.lang.en import English\n",
        "\n",
        "import string\n",
        "\n",
        "from multiprocessing import  Pool\n",
        "import numpy as np\n",
        "import pandas as pd\n",
        "\n",
        "from sentence_transformers import SentenceTransformer, util\n",
        "from sentence_transformers import util\n",
        "import tensorflow as tf\n",
        "from sklearn.preprocessing import StandardScaler\n",
        "\n",
        "from sklearn.decomposition import PCA\n",
        "import matplotlib.pyplot as plt\n",
        "from sklearn.neighbors import NearestNeighbors\n",
        "from sklearn.cluster import DBSCAN\n",
        "from sklearn import metrics\n",
        "from sklearn.mixture import GaussianMixture\n",
        "import pickle\n",
        "\n",
        "\n",
        "import torch"
      ],
      "metadata": {
        "id": "W1UamwmP1BHB"
      },
      "execution_count": null,
      "outputs": []
    },
    {
      "cell_type": "code",
      "source": [
        "#read data from .tsv files\n",
        "import pandas as pd\n",
        "df_all_authors = pd.read_csv(\"all_authors.tsv\", sep='\\t', encoding= 'ISO-8859-1')\n",
        "df_all_publications = pd.read_csv(\"all_publications.tsv\", sep='\\t')\n",
        "df_selected_author_publications = pd.read_csv(\"selected_author_publications_information.tsv\", sep='\\t')\n",
        "df_selected_publication_citations = pd.read_csv(\"selected_publication_citations_information.tsv\", sep='\\t')"
      ],
      "metadata": {
        "id": "zxTXN3Zw0orP"
      },
      "execution_count": null,
      "outputs": []
    },
    {
      "cell_type": "code",
      "source": [
        "# Drop duplicates\n",
        "df_all_publications.drop_duplicates(inplace=True)\n",
        "df_selected_publication_citations.drop_duplicates(inplace=True)\n",
        "\n",
        "# Drop NA's\n",
        "#\n",
        "print(df_all_publications.isna().sum())\n",
        "print(df_selected_publication_citations.isna().sum())\n",
        "df_selected_publication_citations.drop(['citation_sentence_cited'], axis=1, inplace=True)\n",
        "df_all_publications.dropna(inplace=True)\n",
        "print(df_all_publications.isna().sum())"
      ],
      "metadata": {
        "colab": {
          "base_uri": "https://localhost:8080/"
        },
        "id": "rmvktWhu0teg",
        "outputId": "768883d2-fc23-4e7f-eae1-3f2d8e779fe1"
      },
      "execution_count": null,
      "outputs": [
        {
          "output_type": "stream",
          "name": "stdout",
          "text": [
            "paper_id                         0\n",
            "paper_dblp_key                   0\n",
            "paper_title                      0\n",
            "paper_filtered_title             0\n",
            "paper_published_date             0\n",
            "paper_published_conference       0\n",
            "paper_gscholar_url               0\n",
            "paper_dblp_url                   0\n",
            "paper_abstract                2529\n",
            "dtype: int64\n",
            "citing_paper_id                   0\n",
            "cited_paper_id                    0\n",
            "citation_title                    0\n",
            "citation_filtered_title           0\n",
            "citation_sentence_before       3843\n",
            "citation_sentence_cited          25\n",
            "citation_sentence_after        3391\n",
            "citation_position (section)       0\n",
            "dtype: int64\n",
            "paper_id                      0\n",
            "paper_dblp_key                0\n",
            "paper_title                   0\n",
            "paper_filtered_title          0\n",
            "paper_published_date          0\n",
            "paper_published_conference    0\n",
            "paper_gscholar_url            0\n",
            "paper_dblp_url                0\n",
            "paper_abstract                0\n",
            "dtype: int64\n"
          ]
        }
      ]
    },
    {
      "cell_type": "code",
      "source": [
        "titles    = []\n",
        "abstracts = []\n",
        "confs      = []\n",
        "citeds    = []\n",
        "cited_confs = []\n",
        "cited_abs = []\n",
        "\n",
        "for cited_idx, title in enumerate(df_selected_publication_citations['citation_filtered_title']):\n",
        "    paper_id_found = False\n",
        "    cited_paper_id = df_selected_publication_citations['cited_paper_id'].iloc[cited_idx]   \n",
        "    paper_id = df_selected_publication_citations[\"citing_paper_id\"].iloc[cited_idx]\n",
        "\n",
        "    # All publications has not contain paper information for paper_id = 5835\n",
        "    try:\n",
        "        citeds.append(title)\n",
        "        titles.append(df_all_publications['paper_title'].iloc[df_all_publications.index[df_all_publications['paper_id'] == paper_id].tolist()[0]])\n",
        "        abstracts.append(df_all_publications['paper_abstract'].iloc[df_all_publications.index[df_all_publications['paper_id'] == paper_id].tolist()[0]])\n",
        "        confs.append(df_all_publications['paper_published_conference'].iloc[df_all_publications.index[df_all_publications['paper_id'] == paper_id].tolist()[0]])\n",
        "        paper_id_found = True\n",
        "        cited_confs.append(df_all_publications['paper_published_conference'].iloc[df_all_publications.index[df_all_publications['paper_id'] == cited_paper_id].tolist()[0]])\n",
        "        cited_abs.append(df_all_publications['paper_abstract'].iloc[df_all_publications.index[df_all_publications['paper_id'] == cited_paper_id].tolist()[0]])\n",
        "    except:\n",
        "        if paper_id_found:\n",
        "            titles.pop()\n",
        "            abstracts.pop()\n",
        "            confs.pop()\n",
        "            citeds.pop()\n",
        "        continue"
      ],
      "metadata": {
        "id": "zCwpMPa80ytA"
      },
      "execution_count": null,
      "outputs": []
    },
    {
      "cell_type": "code",
      "source": [
        "headers = ['paper_title', 'paper_abstract', 'paper_published_conference', 'cited_paper_title', 'cited_paper_published_conference', 'cited_paper_abstract']\n",
        "df = pd.DataFrame(list(zip(titles, abstracts, confs, citeds, cited_confs, cited_abs)),\n",
        "               columns = headers)\n",
        "\n",
        "df['paper_abstract'] = df['paper_abstract'].astype(str).map(lambda x: x.lstrip('[').rstrip(']'))\n",
        "df['cited_paper_abstract'] = df['cited_paper_abstract'].astype(str).map(lambda x: x.lstrip('[').rstrip(']'))\n",
        "\n",
        "train_set = df.sample(frac = 0.7)\n",
        "test_set  = df.drop(train_set.index)\n",
        "\n",
        "# Check the ratio\n",
        "print(df.shape)\n",
        "print(train_set.shape[0] / df.shape[0])\n",
        "print(test_set.shape[0] / df.shape[0])\n",
        "\n",
        "df.head(5)\n",
        "train_set.head(5)"
      ],
      "metadata": {
        "id": "sKiJ9j7J03Vm"
      },
      "execution_count": null,
      "outputs": []
    },
    {
      "cell_type": "code",
      "source": [
        "train_set.to_csv(\"train_set.tsv\", sep='\\t')\n",
        "test_set.to_csv(\"test_set.tsv\", sep='\\t')"
      ],
      "metadata": {
        "id": "wUZqdO8A2A7P"
      },
      "execution_count": null,
      "outputs": []
    },
    {
      "cell_type": "code",
      "source": [
        "punctuations = string.punctuation\n",
        "stopwords = list(STOP_WORDS)\n",
        "stopwords[:10]\n",
        "\n",
        "custom_stop_words = [\n",
        "    'doi', 'preprint', 'copyright', 'peer', 'reviewed', 'org', 'https', 'et', 'al', 'author', 'figure', \n",
        "    'rights', 'reserved', 'permission', 'used', 'using', 'biorxiv', 'medrxiv', 'license', 'fig', 'fig.', \n",
        "    'al.', 'Elsevier', 'PMC', 'CZI', 'www'\n",
        "]\n",
        "\n",
        "for w in custom_stop_words:\n",
        "    if w not in stopwords:\n",
        "        stopwords.append(w)\n",
        "\n",
        "print(len(stopwords))"
      ],
      "metadata": {
        "id": "Ey2t3TU311fP",
        "colab": {
          "base_uri": "https://localhost:8080/"
        },
        "outputId": "11aef29e-bdba-4f1c-abe7-c7144fe9312f"
      },
      "execution_count": null,
      "outputs": [
        {
          "output_type": "stream",
          "name": "stdout",
          "text": [
            "350\n"
          ]
        }
      ]
    },
    {
      "cell_type": "code",
      "source": [
        "parser = spacy.load(\"en_core_web_sm\")\n",
        "parser.max_length = 7000000\n",
        "\n",
        "def call_tokenizer(df):\n",
        "    df[\"paper_abstract\"] = df[\"paper_abstract\"].apply(spacy_tokenizer)\n",
        "    df[\"paper_title\"] = df[\"paper_title\"].apply(spacy_tokenizer)\n",
        "    return df\n",
        "\n",
        "def spacy_tokenizer(sentence):\n",
        "    mytokens = parser(sentence)\n",
        "    mytokens = [ word.lemma_.lower().strip() if word.lemma_ != \"-PRON-\" else word.lower_ for word in mytokens ]\n",
        "    mytokens = [ word for word in mytokens if word not in stopwords and word not in punctuations ]\n",
        "    mytokens = \" \".join([i for i in mytokens])\n",
        "    return mytokens"
      ],
      "metadata": {
        "id": "Vwmtu2Ej18gQ"
      },
      "execution_count": null,
      "outputs": []
    },
    {
      "cell_type": "code",
      "source": [
        "def parallelize_dataframe(df, func, n_cores=4):\n",
        "    df_split = np.array_split(df, n_cores)\n",
        "    pool = Pool(n_cores)\n",
        "    df = pd.concat(pool.map(func, df_split))\n",
        "    pool.close()\n",
        "    pool.join()\n",
        "    df = pd.DataFrame(df)\n",
        "    return df"
      ],
      "metadata": {
        "id": "IpkT_rB-2Elo"
      },
      "execution_count": null,
      "outputs": []
    },
    {
      "cell_type": "code",
      "source": [
        "loaded_train_set = pd.read_csv(\"train_set.tsv\", sep='\\t')\n",
        "loaded_test_set = pd.read_csv(\"test_set.tsv\", sep='\\t')"
      ],
      "metadata": {
        "id": "7vAsNVwF1mXw"
      },
      "execution_count": null,
      "outputs": []
    },
    {
      "cell_type": "code",
      "source": [
        "corpus = pd.concat([loaded_train_set, loaded_test_set], ignore_index=True)"
      ],
      "metadata": {
        "id": "N4SFYnFBDZh_"
      },
      "execution_count": null,
      "outputs": []
    },
    {
      "cell_type": "code",
      "source": [
        "corpus = pd.DataFrame(corpus)"
      ],
      "metadata": {
        "id": "lgWUXPEo-3a8"
      },
      "execution_count": null,
      "outputs": []
    },
    {
      "cell_type": "code",
      "source": [
        "corpus = corpus[['paper_title', 'paper_abstract']]"
      ],
      "metadata": {
        "id": "RG6-QayKDdut"
      },
      "execution_count": null,
      "outputs": []
    },
    {
      "cell_type": "code",
      "source": [
        "corpus = corpus.drop_duplicates([\"paper_title\"])"
      ],
      "metadata": {
        "id": "-95RP_qJeR-p"
      },
      "execution_count": null,
      "outputs": []
    },
    {
      "cell_type": "code",
      "source": [
        "corpus.reset_index(drop=True, inplace=True)"
      ],
      "metadata": {
        "id": "zZB_WvL0X0JH"
      },
      "execution_count": null,
      "outputs": []
    },
    {
      "cell_type": "code",
      "source": [
        "%time corpus = parallelize_dataframe(df=corpus, func=call_tokenizer, n_cores=50)"
      ],
      "metadata": {
        "id": "aWRhCYNz08sf",
        "colab": {
          "base_uri": "https://localhost:8080/"
        },
        "outputId": "ace109c2-9bda-42c9-ab84-994a5c1d2a86"
      },
      "execution_count": null,
      "outputs": [
        {
          "output_type": "stream",
          "name": "stdout",
          "text": [
            "CPU times: user 809 ms, sys: 1.93 s, total: 2.74 s\n",
            "Wall time: 1min 52s\n"
          ]
        }
      ]
    },
    {
      "cell_type": "code",
      "source": [
        "corpus.head()"
      ],
      "metadata": {
        "colab": {
          "base_uri": "https://localhost:8080/",
          "height": 206
        },
        "id": "9S5UZZ8Rj75q",
        "outputId": "7624218d-01d9-4d72-e937-dcabba9af22f"
      },
      "execution_count": null,
      "outputs": [
        {
          "output_type": "execute_result",
          "data": {
            "text/plain": [
              "                                         paper_title  \\\n",
              "0  potential base difference reward multiagent re...   \n",
              "1  network virtualization wdm flexible grid optic...   \n",
              "2                private capacities mechanism design   \n",
              "3  applied thermodynamics grain boundary segregation   \n",
              "4                            filter raster signature   \n",
              "\n",
              "                                      paper_abstract  \n",
              "0  difference reward potential base reward shapin...  \n",
              "1  network virtualization eradicate ossification ...  \n",
              "2  algorithmic mechanism design consider distribu...  \n",
              "3  chemical composition interface free surface gr...  \n",
              "4  efficient evaluation spatial query important i...  "
            ],
            "text/html": [
              "\n",
              "  <div id=\"df-a1cf4092-0788-45a4-a0f3-8eabab505142\">\n",
              "    <div class=\"colab-df-container\">\n",
              "      <div>\n",
              "<style scoped>\n",
              "    .dataframe tbody tr th:only-of-type {\n",
              "        vertical-align: middle;\n",
              "    }\n",
              "\n",
              "    .dataframe tbody tr th {\n",
              "        vertical-align: top;\n",
              "    }\n",
              "\n",
              "    .dataframe thead th {\n",
              "        text-align: right;\n",
              "    }\n",
              "</style>\n",
              "<table border=\"1\" class=\"dataframe\">\n",
              "  <thead>\n",
              "    <tr style=\"text-align: right;\">\n",
              "      <th></th>\n",
              "      <th>paper_title</th>\n",
              "      <th>paper_abstract</th>\n",
              "    </tr>\n",
              "  </thead>\n",
              "  <tbody>\n",
              "    <tr>\n",
              "      <th>0</th>\n",
              "      <td>potential base difference reward multiagent re...</td>\n",
              "      <td>difference reward potential base reward shapin...</td>\n",
              "    </tr>\n",
              "    <tr>\n",
              "      <th>1</th>\n",
              "      <td>network virtualization wdm flexible grid optic...</td>\n",
              "      <td>network virtualization eradicate ossification ...</td>\n",
              "    </tr>\n",
              "    <tr>\n",
              "      <th>2</th>\n",
              "      <td>private capacities mechanism design</td>\n",
              "      <td>algorithmic mechanism design consider distribu...</td>\n",
              "    </tr>\n",
              "    <tr>\n",
              "      <th>3</th>\n",
              "      <td>applied thermodynamics grain boundary segregation</td>\n",
              "      <td>chemical composition interface free surface gr...</td>\n",
              "    </tr>\n",
              "    <tr>\n",
              "      <th>4</th>\n",
              "      <td>filter raster signature</td>\n",
              "      <td>efficient evaluation spatial query important i...</td>\n",
              "    </tr>\n",
              "  </tbody>\n",
              "</table>\n",
              "</div>\n",
              "      <button class=\"colab-df-convert\" onclick=\"convertToInteractive('df-a1cf4092-0788-45a4-a0f3-8eabab505142')\"\n",
              "              title=\"Convert this dataframe to an interactive table.\"\n",
              "              style=\"display:none;\">\n",
              "        \n",
              "  <svg xmlns=\"http://www.w3.org/2000/svg\" height=\"24px\"viewBox=\"0 0 24 24\"\n",
              "       width=\"24px\">\n",
              "    <path d=\"M0 0h24v24H0V0z\" fill=\"none\"/>\n",
              "    <path d=\"M18.56 5.44l.94 2.06.94-2.06 2.06-.94-2.06-.94-.94-2.06-.94 2.06-2.06.94zm-11 1L8.5 8.5l.94-2.06 2.06-.94-2.06-.94L8.5 2.5l-.94 2.06-2.06.94zm10 10l.94 2.06.94-2.06 2.06-.94-2.06-.94-.94-2.06-.94 2.06-2.06.94z\"/><path d=\"M17.41 7.96l-1.37-1.37c-.4-.4-.92-.59-1.43-.59-.52 0-1.04.2-1.43.59L10.3 9.45l-7.72 7.72c-.78.78-.78 2.05 0 2.83L4 21.41c.39.39.9.59 1.41.59.51 0 1.02-.2 1.41-.59l7.78-7.78 2.81-2.81c.8-.78.8-2.07 0-2.86zM5.41 20L4 18.59l7.72-7.72 1.47 1.35L5.41 20z\"/>\n",
              "  </svg>\n",
              "      </button>\n",
              "      \n",
              "  <style>\n",
              "    .colab-df-container {\n",
              "      display:flex;\n",
              "      flex-wrap:wrap;\n",
              "      gap: 12px;\n",
              "    }\n",
              "\n",
              "    .colab-df-convert {\n",
              "      background-color: #E8F0FE;\n",
              "      border: none;\n",
              "      border-radius: 50%;\n",
              "      cursor: pointer;\n",
              "      display: none;\n",
              "      fill: #1967D2;\n",
              "      height: 32px;\n",
              "      padding: 0 0 0 0;\n",
              "      width: 32px;\n",
              "    }\n",
              "\n",
              "    .colab-df-convert:hover {\n",
              "      background-color: #E2EBFA;\n",
              "      box-shadow: 0px 1px 2px rgba(60, 64, 67, 0.3), 0px 1px 3px 1px rgba(60, 64, 67, 0.15);\n",
              "      fill: #174EA6;\n",
              "    }\n",
              "\n",
              "    [theme=dark] .colab-df-convert {\n",
              "      background-color: #3B4455;\n",
              "      fill: #D2E3FC;\n",
              "    }\n",
              "\n",
              "    [theme=dark] .colab-df-convert:hover {\n",
              "      background-color: #434B5C;\n",
              "      box-shadow: 0px 1px 3px 1px rgba(0, 0, 0, 0.15);\n",
              "      filter: drop-shadow(0px 1px 2px rgba(0, 0, 0, 0.3));\n",
              "      fill: #FFFFFF;\n",
              "    }\n",
              "  </style>\n",
              "\n",
              "      <script>\n",
              "        const buttonEl =\n",
              "          document.querySelector('#df-a1cf4092-0788-45a4-a0f3-8eabab505142 button.colab-df-convert');\n",
              "        buttonEl.style.display =\n",
              "          google.colab.kernel.accessAllowed ? 'block' : 'none';\n",
              "\n",
              "        async function convertToInteractive(key) {\n",
              "          const element = document.querySelector('#df-a1cf4092-0788-45a4-a0f3-8eabab505142');\n",
              "          const dataTable =\n",
              "            await google.colab.kernel.invokeFunction('convertToInteractive',\n",
              "                                                     [key], {});\n",
              "          if (!dataTable) return;\n",
              "\n",
              "          const docLinkHtml = 'Like what you see? Visit the ' +\n",
              "            '<a target=\"_blank\" href=https://colab.research.google.com/notebooks/data_table.ipynb>data table notebook</a>'\n",
              "            + ' to learn more about interactive tables.';\n",
              "          element.innerHTML = '';\n",
              "          dataTable['output_type'] = 'display_data';\n",
              "          await google.colab.output.renderOutput(dataTable, element);\n",
              "          const docLink = document.createElement('div');\n",
              "          docLink.innerHTML = docLinkHtml;\n",
              "          element.appendChild(docLink);\n",
              "        }\n",
              "      </script>\n",
              "    </div>\n",
              "  </div>\n",
              "  "
            ]
          },
          "metadata": {},
          "execution_count": 110
        }
      ]
    },
    {
      "cell_type": "code",
      "source": [],
      "metadata": {
        "id": "ThDH5zNcqrH5"
      },
      "execution_count": null,
      "outputs": []
    },
    {
      "cell_type": "markdown",
      "source": [
        "# Model : msmarco-distilbert-base-v4"
      ],
      "metadata": {
        "id": "2UBF1875qrYI"
      }
    },
    {
      "cell_type": "markdown",
      "source": [
        "## simple semantic search"
      ],
      "metadata": {
        "id": "-UowalmgQCUA"
      }
    },
    {
      "cell_type": "code",
      "source": [
        "model_semantic_search = SentenceTransformer('msmarco-distilbert-base-v4')\n",
        "\n",
        "#For other pre-trained models, please check link below:\n",
        "#https://www.sbert.net/docs/pretrained_models.html\n",
        "\n",
        "# For paper abstracts\n",
        "\n",
        "# Model : msmarco-distilbert-base-v4\n",
        "corpus_embeddings = model_semantic_search.encode(corpus[\"paper_abstract\"],convert_to_tensor=True)\n",
        "print(corpus_embeddings.shape)\n",
        "\n"
      ],
      "metadata": {
        "colab": {
          "base_uri": "https://localhost:8080/"
        },
        "id": "lgCYZaos2ODH",
        "outputId": "2ca17ff4-372f-41e2-e5bc-74eb24719e57"
      },
      "execution_count": null,
      "outputs": [
        {
          "output_type": "stream",
          "name": "stdout",
          "text": [
            "torch.Size([2587, 768])\n"
          ]
        }
      ]
    },
    {
      "cell_type": "code",
      "source": [
        "model_semantic_search = SentenceTransformer('msmarco-distilbert-base-v4')\n",
        "\n",
        "#For other pre-trained models, please check link below:\n",
        "#https://www.sbert.net/docs/pretrained_models.html\n",
        "\n",
        "# For paper abstracts\n",
        "\n",
        "# Model : msmarco-distilbert-base-v4\n",
        "query_embeddings = model_semantic_search.encode(corpus[\"paper_title\"] ,convert_to_tensor=True )\n",
        "print(query_embeddings.shape)"
      ],
      "metadata": {
        "colab": {
          "base_uri": "https://localhost:8080/"
        },
        "id": "pe_4Mq41X8W2",
        "outputId": "dd3eb609-0331-4434-92ca-4dcd9235fe6e"
      },
      "execution_count": null,
      "outputs": [
        {
          "output_type": "stream",
          "name": "stdout",
          "text": [
            "torch.Size([2587, 768])\n"
          ]
        }
      ]
    },
    {
      "cell_type": "code",
      "source": [
        "from sentence_transformers import SentenceTransformer, util\n",
        "import torch"
      ],
      "metadata": {
        "id": "-TmcRqNDY8hA"
      },
      "execution_count": null,
      "outputs": []
    },
    {
      "cell_type": "code",
      "source": [
        "corpus_embeddings_cuda = pd.DataFrame(corpus_embeddings)\n",
        "query_embeddings_cuda = pd.DataFrame(query_embeddings)"
      ],
      "metadata": {
        "id": "9sArxCZah6vX"
      },
      "execution_count": null,
      "outputs": []
    },
    {
      "cell_type": "code",
      "source": [
        "corpus_embeddings_cuda = corpus_embeddings.to('cuda')\n",
        "query_embeddings_cuda = query_embeddings.to('cuda')\n",
        "\n",
        "acc = 0\n",
        "top_k = min(5, len(corpus))\n",
        "for i in range(len(corpus)):\n",
        "  query = corpus[\"paper_title\"][i]\n",
        "  query_embedding = query_embeddings_cuda[i]\n",
        "\n",
        "\n",
        "  cos_scores = util.cos_sim(query_embedding, corpus_embeddings_cuda)[0]\n",
        "  top_results = torch.topk(cos_scores, k=top_k)\n",
        "\n",
        "  for score, idx in zip(top_results[0], top_results[1]):\n",
        "    if i == idx.item():\n",
        "      acc +=1"
      ],
      "metadata": {
        "id": "yDLsKSqZgZqo"
      },
      "execution_count": null,
      "outputs": []
    },
    {
      "cell_type": "code",
      "source": [
        "acc/len(corpus)"
      ],
      "metadata": {
        "colab": {
          "base_uri": "https://localhost:8080/"
        },
        "id": "y4W2UhOVhtH3",
        "outputId": "0485ca9e-446b-4af3-f214-6b9d508e325d"
      },
      "execution_count": null,
      "outputs": [
        {
          "output_type": "execute_result",
          "data": {
            "text/plain": [
              "0.6988790104367993"
            ]
          },
          "metadata": {},
          "execution_count": 126
        }
      ]
    },
    {
      "cell_type": "code",
      "source": [
        "top_k = min(5, len(corpus))\n",
        "query = \"\tapplied thermodynamics grain boundary segregation\"\n",
        "query_embedding = model_semantic_search.encode(query, convert_to_tensor=True)\n",
        "\n",
        "# We use cosine-similarity and torch.topk to find the highest 5 scores\n",
        "cos_scores = util.cos_sim(query_embedding, corpus_embeddings)[0]\n",
        "top_results = torch.topk(cos_scores, k=top_k)\n",
        "\n",
        "print(\"\\n\\n======================\\n\\n\")\n",
        "print(\"Query:\", query)\n",
        "print(\"\\nTop 5 most similar sentences in corpus:\")\n",
        "\n",
        "for score, idx in zip(top_results[0], top_results[1]):\n",
        "\n",
        "    print(idx.item())\n",
        "    print(corpus[\"paper_abstract\"][idx.item()], \"(Score: {:.4f})\".format(score))"
      ],
      "metadata": {
        "colab": {
          "base_uri": "https://localhost:8080/"
        },
        "id": "x7BHsKO4jKrM",
        "outputId": "0c8afdd8-9af3-4570-8b31-8d3235c71e32"
      },
      "execution_count": null,
      "outputs": [
        {
          "output_type": "stream",
          "name": "stdout",
          "text": [
            "\n",
            "\n",
            "======================\n",
            "\n",
            "\n",
            "Query: \tapplied thermodynamics grain boundary segregation\n",
            "\n",
            "Top 5 most similar sentences in corpus:\n",
            "3\n",
            "chemical composition interface free surface grain boundary generally describe langmuir mclean segregation isotherm control gibbs energy segregation component gibbs energy segregation standard excess thermodynamic state function enthalpy entropy volume interfacial segregation derive physical meaning elucidated importance thermodynamic state function grain boundary segregation dependence volume solid solubility mutual solute solute interaction pressure effect ferrous alloy demonstrate (Score: 0.5456)\n",
            "1005\n",
            "paper propose unsupervised boundary detection algorithm improved surround suppression model base orientation contrast fir t candidate boundary set obtain edge focus algorithm second orientation contrast map construct use response ga bor filter suppression term compute orientation contrast map use steerable filter effectively differentiate step edge texture edge use low level image feature boundary map use preprocesse step image segmentation and/or object detection detection approach validate rug dataset average merit improvement 15 (Score: 0.3035)\n",
            "2539\n",
            "modern integrate system interconnect thermal management technology major limitation system performance paper number technology present address challenge low loss polymer embed demonstrate thick wafer compatible microfluidic fluidic os delivery fluid microfluidic heat sink demonstrate assembled 2.5d 3d stack thermal coupling dice 2.5d 3d system explore lastly utility microfluidic cooling demonstrate fpga build 28 nm process monolithically integrate microfluidic heat sink (Score: 0.2901)\n",
            "2384\n",
            "cluster ensemble aim produce high quality datum partition combine set different partition produce datum diversity quality claim critical selection partition combine enhance characteristic method apply evaluate select subset partition provide ensemble result similar base set partition previous study selection significantly improve quality final partition appropriate evaluation candidate partition combine perform work method evaluate select partition investigate base relative cluster validity index index select partition high quality participate ensemble relative index suitable particular data conformation distinct relative index combine create final evaluation tend robust change application scenario majority combine index compensate poor performance individual index investigate impact diversity partition use ensemble comparative evaluation result obtain extensive collection experiment involve state art method statistical test present base responsible editor charu aggarwal 123 m. c. naldi obtain result practical design approach propose support cluster ensemble selection approach successfully apply real public domain datum set (Score: 0.2694)\n",
            "1556\n",
            "propose motion direction histogram mdh new feature abrupt shoot boundary detection video sequence conventional method abrupt shot boundary detection use threshold difference measure feature value consecutive image difficult conventional method t o detect shot boundary busy scene intensity change substantially frame t o frame method use feature color luminance difference histogram motion vector value kind feature significantly increase video sequence include intense motion overcome problem develop mdh feature confirm effectiveness experimentally obtain accuracy 95 abrupt shoot boundary detection (Score: 0.2656)\n"
          ]
        }
      ]
    },
    {
      "cell_type": "markdown",
      "source": [
        "## semantic search with pca"
      ],
      "metadata": {
        "id": "LafisnkklrRo"
      }
    },
    {
      "cell_type": "code",
      "source": [
        "#define scaler\n",
        "scaler = StandardScaler()\n",
        "\n",
        "corpus_embeddings_scaled = pd.DataFrame(scaler.fit_transform(corpus_embeddings.cpu()))\n",
        "print(corpus_embeddings_scaled.shape)\n",
        "\n",
        "query_embeddings_scaled = pd.DataFrame(scaler.fit_transform(query_embeddings.cpu()))\n",
        "print(query_embeddings_scaled.shape)"
      ],
      "metadata": {
        "colab": {
          "base_uri": "https://localhost:8080/"
        },
        "id": "Hkod_rrfl8Bv",
        "outputId": "d1122ade-0b8a-4958-e065-b3b728e246fa"
      },
      "execution_count": null,
      "outputs": [
        {
          "output_type": "stream",
          "name": "stdout",
          "text": [
            "(2587, 768)\n",
            "(2587, 768)\n"
          ]
        }
      ]
    },
    {
      "cell_type": "code",
      "source": [
        "pca = PCA()\n",
        "pca_corpus = pca.fit_transform((corpus_embeddings_scaled))\n",
        "print('Cumulative variance explained by principal components: {:.2%}'.format(np.sum(pca.explained_variance_ratio_)))\n",
        "n_pcs= pca.components_.shape[0]\n",
        "print(\"Number of principal components : {}\". format(n_pcs))\n",
        "print(\"Shape of principal components : {}\". format(pca.components_.shape))"
      ],
      "metadata": {
        "colab": {
          "base_uri": "https://localhost:8080/"
        },
        "id": "9onLefCY4Puw",
        "outputId": "64303d1b-2dd3-4506-edf3-9ef718f10b84"
      },
      "execution_count": null,
      "outputs": [
        {
          "output_type": "stream",
          "name": "stdout",
          "text": [
            "Cumulative variance explained by principal components: 100.00%\n",
            "Number of principal components : 768\n",
            "Shape of principal components : (768, 768)\n"
          ]
        }
      ]
    },
    {
      "cell_type": "code",
      "source": [
        "import matplotlib.pyplot as plt\n",
        "plt.rcParams[\"figure.figsize\"] = (12,6)\n",
        "\n",
        "fig, ax = plt.subplots()\n",
        "xi = np.arange(1, n_pcs+1, step=1)\n",
        "y = np.cumsum(pca.explained_variance_ratio_)\n",
        "\n",
        "plt.ylim(0.0,1.1)\n",
        "plt.plot(xi, y, marker='o', linestyle='--', color='b')\n",
        "\n",
        "plt.xlabel('Number of Components')\n",
        "plt.xticks(np.arange(0, n_pcs, step=100)) #change from 0-based array index to 1-based human-readable label\n",
        "plt.ylabel('Cumulative variance (%)')\n",
        "plt.title('The number of components needed to explain variance')\n",
        "\n",
        "plt.axhline(y=0.95, color='r', linestyle='-')\n",
        "plt.text(0.5, 0.85, '95% cut-off threshold', color = 'red', fontsize=16)\n",
        "\n",
        "ax.grid(axis='x')\n",
        "plt.show()"
      ],
      "metadata": {
        "colab": {
          "base_uri": "https://localhost:8080/",
          "height": 404
        },
        "id": "kwFYfjct4Vpr",
        "outputId": "35212391-e5b2-4aa7-e105-950cdbefd439"
      },
      "execution_count": null,
      "outputs": [
        {
          "output_type": "display_data",
          "data": {
            "text/plain": [
              "<Figure size 864x432 with 1 Axes>"
            ],
            "image/png": "[encoded data removed]"
          },
          "metadata": {
            "needs_background": "light"
          }
        }
      ]
    },
    {
      "cell_type": "code",
      "source": [
        "pca = PCA(n_components=0.95)\n",
        "principalComponents = pca.fit_transform(corpus_embeddings_scaled)\n",
        "principalComponents.shape"
      ],
      "metadata": {
        "colab": {
          "base_uri": "https://localhost:8080/"
        },
        "id": "5S0ctvpk4Xte",
        "outputId": "3c687fc5-3143-4730-fe99-9fa105785587"
      },
      "execution_count": null,
      "outputs": [
        {
          "output_type": "execute_result",
          "data": {
            "text/plain": [
              "(2587, 296)"
            ]
          },
          "metadata": {},
          "execution_count": 141
        }
      ]
    },
    {
      "cell_type": "code",
      "source": [
        "principalComponents_test = pca.transform(query_embeddings_scaled)"
      ],
      "metadata": {
        "id": "jO5vcGBwR58f"
      },
      "execution_count": null,
      "outputs": []
    },
    {
      "cell_type": "code",
      "source": [
        "corpus_embeddings_scaled_cuda = principalComponents\n",
        "query_embeddings_scaled_cuda = principalComponents_test\n",
        "\n",
        "acc = 0\n",
        "top_k = min(5, len(corpus))\n",
        "for i in range(len(corpus)):\n",
        "  query = corpus[\"paper_title\"][i]\n",
        "  query_embedding = query_embeddings_scaled_cuda[i]\n",
        "\n",
        "\n",
        "  cos_scores = util.cos_sim(query_embedding, corpus_embeddings_scaled_cuda)[0]\n",
        "  top_results = torch.topk(cos_scores, k=top_k)\n",
        "\n",
        "  for score, idx in zip(top_results[0], top_results[1]):\n",
        "    if i == idx.item():\n",
        "      acc +=1"
      ],
      "metadata": {
        "id": "HuLu4dtAoo6K"
      },
      "execution_count": null,
      "outputs": []
    },
    {
      "cell_type": "code",
      "source": [
        "acc/len(corpus)"
      ],
      "metadata": {
        "colab": {
          "base_uri": "https://localhost:8080/"
        },
        "id": "JzZ8xEx_o74N",
        "outputId": "88e1b25f-0ae0-4d94-cba9-a3820d949ddb"
      },
      "execution_count": null,
      "outputs": [
        {
          "output_type": "execute_result",
          "data": {
            "text/plain": [
              "0.761886354851179"
            ]
          },
          "metadata": {},
          "execution_count": 146
        }
      ]
    },
    {
      "cell_type": "code",
      "source": [
        "corpus_embeddings_scaled_cuda = principalComponents\n",
        "top_k = min(5, len(corpus))\n",
        "query = [\"applied thermodynamics grain boundary segregation\"]\n",
        "query_embedding = model_semantic_search.encode(query, convert_to_tensor=True)\n",
        "query_embedding = pca.transform(query_embedding.cpu())\n",
        "# We use cosine-similarity and torch.topk to find the highest 5 scores\n",
        "cos_scores = util.cos_sim(query_embedding, corpus_embeddings_scaled_cuda)[0]\n",
        "top_results = torch.topk(cos_scores, k=top_k)\n",
        "\n",
        "print(\"\\n\\n======================\\n\\n\")\n",
        "print(\"Query:\", query)\n",
        "print(\"\\nTop 5 most similar sentences in corpus:\")\n",
        "\n",
        "for score, idx in zip(top_results[0], top_results[1]):\n",
        "\n",
        "    print(idx.item())\n",
        "    print(corpus[\"paper_abstract\"][idx.item()], \"(Score: {:.4f})\".format(score))"
      ],
      "metadata": {
        "colab": {
          "base_uri": "https://localhost:8080/"
        },
        "id": "9Qy6a95FpKAB",
        "outputId": "5192644e-427f-46fb-e235-7d8cc7d50e43"
      },
      "execution_count": null,
      "outputs": [
        {
          "output_type": "stream",
          "name": "stdout",
          "text": [
            "\n",
            "\n",
            "======================\n",
            "\n",
            "\n",
            "Query: ['applied thermodynamics grain boundary segregation']\n",
            "\n",
            "Top 5 most similar sentences in corpus:\n",
            "3\n",
            "chemical composition interface free surface grain boundary generally describe langmuir mclean segregation isotherm control gibbs energy segregation component gibbs energy segregation standard excess thermodynamic state function enthalpy entropy volume interfacial segregation derive physical meaning elucidated importance thermodynamic state function grain boundary segregation dependence volume solid solubility mutual solute solute interaction pressure effect ferrous alloy demonstrate (Score: 0.5731)\n",
            "1005\n",
            "paper propose unsupervised boundary detection algorithm improved surround suppression model base orientation contrast fir t candidate boundary set obtain edge focus algorithm second orientation contrast map construct use response ga bor filter suppression term compute orientation contrast map use steerable filter effectively differentiate step edge texture edge use low level image feature boundary map use preprocesse step image segmentation and/or object detection detection approach validate rug dataset average merit improvement 15 (Score: 0.3749)\n",
            "2539\n",
            "modern integrate system interconnect thermal management technology major limitation system performance paper number technology present address challenge low loss polymer embed demonstrate thick wafer compatible microfluidic fluidic os delivery fluid microfluidic heat sink demonstrate assembled 2.5d 3d stack thermal coupling dice 2.5d 3d system explore lastly utility microfluidic cooling demonstrate fpga build 28 nm process monolithically integrate microfluidic heat sink (Score: 0.3243)\n",
            "2384\n",
            "cluster ensemble aim produce high quality datum partition combine set different partition produce datum diversity quality claim critical selection partition combine enhance characteristic method apply evaluate select subset partition provide ensemble result similar base set partition previous study selection significantly improve quality final partition appropriate evaluation candidate partition combine perform work method evaluate select partition investigate base relative cluster validity index index select partition high quality participate ensemble relative index suitable particular data conformation distinct relative index combine create final evaluation tend robust change application scenario majority combine index compensate poor performance individual index investigate impact diversity partition use ensemble comparative evaluation result obtain extensive collection experiment involve state art method statistical test present base responsible editor charu aggarwal 123 m. c. naldi obtain result practical design approach propose support cluster ensemble selection approach successfully apply real public domain datum set (Score: 0.3061)\n",
            "1359\n",
            "understand adaptation process plant drought stress essential improve management practice breeding strategy engineer viable crop sustainable agriculture come decade hyper spectral imaging provide particularly promising approach gain understanding allow discover non destructively spectral characteristic plant govern primarily scatter absorption characteristic leaf internal structure biochemical constituent drought stress index derive use hyper spectral imaging typically base hyper spectral image rely interpretation expert consider wavelength study present data drive approach discover spectral drought stress index treat unsupervised labeling problem massive scale use short range dependency spectral wavelength develop online varia tional bayes algorithm latent dirichlet allocation convolve dirichlet regularizer approach scale massive dataset provide objective complement plant physiological practice spectral topic find conform plant physiological knowledge compute fraction time compare exist lda approach (Score: 0.2933)\n"
          ]
        }
      ]
    },
    {
      "cell_type": "code",
      "source": [],
      "metadata": {
        "id": "U83Fjv-CpoZS"
      },
      "execution_count": null,
      "outputs": []
    }
  ]
}